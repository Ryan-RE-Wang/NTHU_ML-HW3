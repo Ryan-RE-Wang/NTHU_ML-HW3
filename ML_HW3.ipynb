{
  "nbformat": 4,
  "nbformat_minor": 0,
  "metadata": {
    "accelerator": "GPU",
    "colab": {
      "name": "HW3.ipynb",
      "provenance": [],
      "collapsed_sections": [],
      "machine_shape": "hm",
      "mount_file_id": "1R4Kp3QKXNx_BmsDNAHJIVFdBIhNqQeMz",
      "authorship_tag": "ABX9TyOjTIp4Vst9EI2gSh7j8Yha",
      "include_colab_link": true
    },
    "kernelspec": {
      "display_name": "Python 3",
      "name": "python3"
    }
  },
  "cells": [
    {
      "cell_type": "markdown",
      "metadata": {
        "id": "view-in-github",
        "colab_type": "text"
      },
      "source": [
        "<a href=\"https://colab.research.google.com/github/Ryan-RE-Wang/NTHU_ML-HW3/blob/main/ML_HW3.ipynb\" target=\"_parent\"><img src=\"https://colab.research.google.com/assets/colab-badge.svg\" alt=\"Open In Colab\"/></a>"
      ]
    },
    {
      "cell_type": "markdown",
      "metadata": {
        "id": "RfzRFUW-WI4h"
      },
      "source": [
        "# Init"
      ]
    },
    {
      "cell_type": "code",
      "metadata": {
        "id": "JihiDTdae8tt"
      },
      "source": [
        "!unzip /content/drive/MyDrive/ML_HW3/IML_CXR_TRAIN.zip"
      ],
      "execution_count": null,
      "outputs": []
    },
    {
      "cell_type": "code",
      "metadata": {
        "id": "N0_Kg1LigsHG"
      },
      "source": [
        "import random\r\n",
        "import pandas as pd\r\n",
        "import numpy as np\r\n",
        "import matplotlib.pyplot as plt\r\n",
        "import seaborn as sns\r\n",
        "from google.colab import drive\r\n",
        "import os\r\n",
        "import tensorflow as tf\r\n",
        "import cv2 as cv\r\n",
        "import gc\r\n",
        "from enum import Enum\r\n",
        "from PIL import Image\r\n",
        "from sklearn.model_selection import train_test_split\r\n",
        "from sklearn.metrics import plot_precision_recall_curve, average_precision_score, roc_curve, auc, classification_report\r\n",
        "from sklearn.calibration import CalibratedClassifierCV, calibration_curve\r\n",
        "from sklearn.ensemble import StackingClassifier, VotingClassifier, RandomForestClassifier, AdaBoostClassifier\r\n",
        "import tensorflow_addons as tfa\r\n",
        "from sklearn.preprocessing import MinMaxScaler\r\n",
        "from google.colab.patches import cv2_imshow\r\n",
        "from skimage.util import random_noise\r\n",
        "from sklearn.linear_model import LogisticRegression\r\n",
        "from sklearn.svm import LinearSVC, SVC\r\n",
        "from sklearn.neighbors import KNeighborsClassifier\r\n",
        "from sklearn.ensemble import RandomForestClassifier, GradientBoostingClassifier\r\n",
        "from sklearn.tree import DecisionTreeClassifier\r\n",
        "from xgboost import XGBClassifier\r\n",
        "from joblib import dump, load\r\n",
        "from sklearn import tree\r\n",
        "import warnings\r\n",
        "warnings.filterwarnings(\"ignore\")\r\n",
        "\r\n",
        "\r\n",
        "df_label = pd.read_csv('/content/drive/MyDrive/ML_HW3/cxr_label_train.csv')\r\n",
        "df_ehr = pd.read_csv('/content/drive/MyDrive/ML_HW3/hm_hospitales_covid_structured_30d_train.csv')\r\n",
        "df_ehr_label = pd.read_csv('/content/drive/MyDrive/ML_HW3/split_train_export_30d.csv')"
      ],
      "execution_count": null,
      "outputs": []
    },
    {
      "cell_type": "markdown",
      "metadata": {
        "id": "Eau6hIGMs15E"
      },
      "source": [
        "# some functions"
      ]
    },
    {
      "cell_type": "code",
      "metadata": {
        "id": "0YHwda5F6aEK"
      },
      "source": [
        "def rotation(img, angle):\r\n",
        "    w = img.shape[1]\r\n",
        "    h = img.shape[0]\r\n",
        "\r\n",
        "    M = cv.getRotationMatrix2D((w/2, w/2), angle, 1)\r\n",
        "    rot_img = cv.warpAffine(img, M, (w,h))\r\n",
        "\r\n",
        "    return rot_img\r\n",
        "\r\n",
        "def gaussian_noise(img):\r\n",
        "    w = img.shape[1]\r\n",
        "    h = img.shape[0]\r\n",
        "    gaussian = np.random.random((w, h, 1)).astype(np.float32)\r\n",
        "    gaussian_img = cv.addWeighted(img, 0.75, 0.25 * gaussian, 0.25, 0)\r\n",
        "\r\n",
        "    return gaussian_img\r\n",
        "\r\n",
        "def flip_ver(img):\r\n",
        "    return np.flipud(img)\r\n",
        "\r\n",
        "def flip_hor(img):\r\n",
        "    return np.fliplr(img)\r\n",
        "\r\n",
        "def center_crop(img):\r\n",
        "    w = img.shape[1]/2\r\n",
        "    h = img.shape[0]/2\r\n",
        "\r\n",
        "    x = w/2\r\n",
        "    y = h/2\r\n",
        "\r\n",
        "    img = img[int(y):int(y+h), int(x):int(x+w)]\r\n",
        "    img = cv.resize(img, (256, 256))\r\n",
        "    \r\n",
        "    return img"
      ],
      "execution_count": null,
      "outputs": []
    },
    {
      "cell_type": "code",
      "metadata": {
        "id": "MQw8bnZJoIqu"
      },
      "source": [
        "def plot_loss(history):\r\n",
        "    plt.plot(history.history['loss'], label='loss')\r\n",
        "    plt.plot(history.history['val_loss'], label='val_loss')\r\n",
        "    plt.ylabel(\"loss\")\r\n",
        "    plt.xlabel(\"epoch\")\r\n",
        "    plt.title(\"Training Loss Curve\")\r\n",
        "    plt.legend()\r\n",
        "    plt.show()\r\n"
      ],
      "execution_count": null,
      "outputs": []
    },
    {
      "cell_type": "code",
      "metadata": {
        "id": "XubKofbagsKA"
      },
      "source": [
        "def plot_roc(preds, y_test, title):\r\n",
        "\r\n",
        "    fpr, tpr, threshold = roc_curve(y_test, preds)\r\n",
        "    roc_auc = auc(fpr, tpr)\r\n",
        "\r\n",
        "    # plot the roc curve for the model\r\n",
        "    plt.plot(fpr, tpr, linestyle='solid', label='AUC={:.3f} n={}'.format(roc_auc, len(y_test)))\r\n",
        "    # axis labels\r\n",
        "    plt.xlabel('False Positive Rate')\r\n",
        "    plt.ylabel('True Positive Rate')\r\n",
        "    plt.title(title)\r\n",
        "\r\n",
        "    plt.plot([0,1], [0,1], color='orange', linestyle='--', label='Baseine')\r\n",
        "    plt.legend()\r\n",
        "\r\n",
        "    print(classification_report(y_test, preds))\r\n",
        "\r\n",
        "    \r\n",
        "    plt.show()"
      ],
      "execution_count": null,
      "outputs": []
    },
    {
      "cell_type": "code",
      "metadata": {
        "id": "RfCKPW3ArLt3"
      },
      "source": [
        "def plot_calibration(y_test, preds):\r\n",
        "    plt.figure(figsize=(12, 8))\r\n",
        "    # only these two lines are calibration curves\r\n",
        "    fraction_of_positives, mean_predicted_value = calibration_curve(y_test, preds, n_bins=10)\r\n",
        "\r\n",
        "    plt.plot(mean_predicted_value, fraction_of_positives, \"s-\", label = 'DenseNet121')\r\n",
        "\r\n",
        "    # reference line, legends, and axis labels\r\n",
        "    plt.plot([0, 1], [0, 1], \"k:\", label=\"Perfectly calibrated\")\r\n",
        "    # transform = ax.transAxes\r\n",
        "    plt.title('Calibration plot')\r\n",
        "    plt.xlabel('Predicted probability')\r\n",
        "    plt.ylabel('True probability in each bin')\r\n",
        "\r\n",
        "    plt.legend()\r\n",
        "    plt.show()"
      ],
      "execution_count": null,
      "outputs": []
    },
    {
      "cell_type": "code",
      "metadata": {
        "id": "RlBFdsyofXpR"
      },
      "source": [
        "def preprocess(df):\r\n",
        "  df['sex'] = df['sex'].replace({'MALE':0, 'FEMALE':1})\r\n",
        "\r\n",
        "  col = df.columns[9:21]\r\n",
        "\r\n",
        "  for i in col:\r\n",
        "    df[i] = df[i].fillna(0)\r\n",
        "\r\n",
        "  df[sorted(df['ed_diagnosis'].unique())] = 0\r\n",
        "\r\n",
        "  for j in df.index:\r\n",
        "    symptom = df['ed_diagnosis'][j]\r\n",
        "    df[symptom][j] = 1\r\n",
        "\r\n",
        "  df = df.drop(['ed_diagnosis'], axis=1)\r\n",
        "\r\n",
        "  numerical_col = []\r\n",
        "  for i in df.columns:\r\n",
        "    if (df[i].isnull().sum() != 0):\r\n",
        "      numerical_col.append(i)\r\n",
        "\r\n",
        "  scaler = MinMaxScaler()\r\n",
        "  for i in numerical_col:\r\n",
        "    median = df[i].median(skipna=True)\r\n",
        "    df[i] = df[i].fillna(median)\r\n",
        "    \r\n",
        "  df = df.drop(['admission_datetime'], axis=1)\r\n",
        "  df = df.drop(symptom, axis=1)\r\n",
        "\r\n",
        "  return df\r\n",
        "\r\n",
        "df_ehr_ = preprocess(df_ehr)"
      ],
      "execution_count": null,
      "outputs": []
    },
    {
      "cell_type": "markdown",
      "metadata": {
        "id": "Se4VLCLAtC1J"
      },
      "source": [
        "# get data"
      ]
    },
    {
      "cell_type": "code",
      "metadata": {
        "id": "il_GNUXgLMnS"
      },
      "source": [
        "base_model = tf.keras.models.load_model('/content/drive/MyDrive/saved_model/cxr_model_test_with_1_11_19')\r\n",
        "last_layer = base_model.get_layer('max_pool').output\r\n",
        "\r\n",
        "new_model = tf.keras.models.Model(inputs=base_model.inputs, outputs=last_layer) \r\n",
        "new_model.trainable = False"
      ],
      "execution_count": null,
      "outputs": []
    },
    {
      "cell_type": "code",
      "metadata": {
        "id": "KP1ajiHshRcs"
      },
      "source": [
        "def get_data():\n",
        "    X = []\n",
        "    X_ehr = []\n",
        "    y = []\n",
        " \n",
        "    path = 'IML_CXR'\n",
        "    dirs = os.listdir(path)\n",
        "    col = df_ehr_.columns[1:]\n",
        " \n",
        "    for i in dirs:\n",
        "        file_path = '/content/IML_CXR/' + i\n",
        " \n",
        "        img = cv.imread(file_path, cv.IMREAD_GRAYSCALE)\n",
        "        img = cv.resize(img, (256, 256))\n",
        "        img = np.float32(img)\n",
        " \n",
        "        id = i[:len(i)-4]\n",
        " \n",
        "        id = np.int(id)\n",
        "        outcome = df_label.loc[df_label['PATIENT ID'] == id, 'hospital_outcome'].values\n",
        " \n",
        "        data = df_ehr_.loc[df_ehr_['PATIENT ID'] == id, col].values\n",
        " \n",
        "        X.append(img)\n",
        "        y.append(outcome[0])\n",
        "        X_ehr.append(data[0])\n",
        " \n",
        "    X_train, X_test, X_ehr_train, X_ehr_test, y_train, y_test = train_test_split(X, X_ehr, y, test_size=0.2, random_state=1)\n",
        "\n",
        "    limit = len(X_train)\n",
        " \n",
        "    for index in range(limit):\n",
        "        if (y_train[index] == 1):\n",
        "            for i in range(1):\n",
        "                X_train.append(rotation(X_train[index], np.random.randint(-10, 10)))\n",
        "                y_train.append(y_train[index])\n",
        "                X_ehr_train.append(X_ehr_train[index])\n",
        " \n",
        "    X_train = new_model.predict(np.array(X_train))\n",
        "    y_train = np.array(y_train)\n",
        " \n",
        "    X_ehr_train = np.array(X_ehr_train)\n",
        "    X_ehr_test = np.array(X_ehr_test)\n",
        " \n",
        "    X_test = new_model.predict(np.array(X_test))\n",
        "    y_test = np.array(y_test)\n",
        "\n",
        "    scaler = MinMaxScaler(feature_range=(0, 1))\n",
        "    scaler.fit(X_train)\n",
        "    X_train = scaler.transform(X_train)\n",
        "\n",
        "    scaler.fit(X_test)\n",
        "    X_test = scaler.transform(X_test)\n",
        "\n",
        "    scaler.fit(X_ehr_train)\n",
        "    X_ehr_train = scaler.transform(X_ehr_train)\n",
        "\n",
        "    scaler.fit(X_ehr_test)\n",
        "    X_ehr_test = scaler.transform(X_ehr_test)\n",
        " \n",
        "    return X_train, X_test, X_ehr_train, X_ehr_test, y_train, y_test\n",
        "\n",
        "    # return X_train, X_ehr_train, y_train\n",
        " \n",
        "X_train, X_test, X_ehr_train, X_ehr_test, y_train, y_test = get_data()\n",
        "# X_train, X_ehr_train, y_train = get_data()\n",
        "\n",
        "X_combine_train = np.empty((X_train.shape[0], X_train.shape[1]+X_ehr_train.shape[1]))\n",
        "for i in range(X_train.shape[0]):\n",
        "    X_combine_train[i] = np.append(X_train[i], X_ehr_train[i], axis=0)\n",
        " \n",
        "X_combine_test = np.empty((X_test.shape[0], X_test.shape[1]+X_ehr_test.shape[1]))\n",
        "for i in range(X_test.shape[0]):\n",
        "    X_combine_test[i] = np.append(X_test[i], X_ehr_test[i], axis=0)"
      ],
      "execution_count": null,
      "outputs": []
    },
    {
      "cell_type": "markdown",
      "metadata": {
        "id": "yFha-QoM0-bc"
      },
      "source": [
        "# build model"
      ]
    },
    {
      "cell_type": "code",
      "metadata": {
        "id": "NKY1PRPpKu0p"
      },
      "source": [
        "def build_cxr(input_shape, output_units):\r\n",
        "    input_layer = tf.keras.layers.Input(input_shape)\r\n",
        "    x = tf.keras.layers.Dense(units=512, activation='relu')(input_layer)\r\n",
        "    \r\n",
        "    x = tf.keras.layers.Dense(units=128, activation='relu')(x)\r\n",
        "\r\n",
        "    x = tf.keras.layers.Dense(units=32, activation='relu')(x)\r\n",
        "\r\n",
        "    x = tf.keras.layers.Dense(units=4, activation='relu', name='last_cxr')(x)\r\n",
        "    \r\n",
        "    out = tf.keras.layers.Dense(units=output_units, activation='sigmoid')(x)\r\n",
        "    \r\n",
        "    model = tf.keras.models.Model(inputs=[input_layer], outputs=[out])\r\n",
        "\r\n",
        "    return model"
      ],
      "execution_count": null,
      "outputs": []
    },
    {
      "cell_type": "code",
      "metadata": {
        "id": "HmReTy9kWTuI"
      },
      "source": [
        "def build_ehr(input_shape, output_units):\r\n",
        "    input_layer = tf.keras.layers.Input(input_shape)\r\n",
        "    x = tf.keras.layers.Dense(units=64, activation='relu')(input_layer)\r\n",
        "    \r\n",
        "    x = tf.keras.layers.Dense(units=32, activation='relu')(x)\r\n",
        "\r\n",
        "    x = tf.keras.layers.Dense(units=16, activation='relu')(x)\r\n",
        "\r\n",
        "    x = tf.keras.layers.Dense(units=4, activation='relu', name='last_ehr')(x)\r\n",
        "    \r\n",
        "    out = tf.keras.layers.Dense(units=output_units, activation='sigmoid')(x)\r\n",
        "    \r\n",
        "    model = tf.keras.models.Model(inputs=[input_layer], outputs=[out])\r\n",
        "\r\n",
        "    return model"
      ],
      "execution_count": null,
      "outputs": []
    },
    {
      "cell_type": "code",
      "metadata": {
        "id": "G1btW0DLYQR6"
      },
      "source": [
        "def build_combine(input_shape, output_units):\r\n",
        "    input_layer = tf.keras.layers.Input(input_shape)\r\n",
        "    x = tf.keras.layers.Dense(units=512, activation='relu')(input_layer)\r\n",
        "    \r\n",
        "    x = tf.keras.layers.Dense(units=128, activation='relu')(x)\r\n",
        "\r\n",
        "    x = tf.keras.layers.Dense(units=64, activation='relu')(x)\r\n",
        "\r\n",
        "    x = tf.keras.layers.Dense(units=16, activation='relu')(x)\r\n",
        "    \r\n",
        "    out = tf.keras.layers.Dense(units=output_units, activation='sigmoid')(x)\r\n",
        "    \r\n",
        "    model = tf.keras.models.Model(inputs=[input_layer], outputs=[out])\r\n",
        "\r\n",
        "    return model"
      ],
      "execution_count": null,
      "outputs": []
    },
    {
      "cell_type": "code",
      "metadata": {
        "id": "Mi8bxhKZxWyZ"
      },
      "source": [
        "def get_model(X_train, X_ehr_train):\r\n",
        "\r\n",
        "    cxr = build_cxr(input_shape=(X_train.shape[1], ), output_units=8)\r\n",
        "    last_layer_cxr = cxr.get_layer('last_cxr').output\r\n",
        "    \r\n",
        "    ehr = build_ehr(input_shape=(X_ehr_train.shape[1], ), output_units=8)\r\n",
        "    last_layer_ehr = ehr.get_layer('last_ehr').output\r\n",
        "\r\n",
        "    combined = tf.keras.layers.concatenate([last_layer_cxr, last_layer_ehr])\r\n",
        "    \r\n",
        "    x = tf.keras.layers.Dense(units=8, activation='relu')(combined)\r\n",
        "\r\n",
        "    pred = tf.keras.layers.Dense(1, activation='sigmoid')(x)\r\n",
        "\r\n",
        "    model = tf.keras.models.Model(inputs=[cxr.input, ehr.input], outputs=pred)\r\n",
        "\r\n",
        "    model.compile(optimizer=tf.keras.optimizers.Adam(),\r\n",
        "                        loss=tf.keras.losses.BinaryCrossentropy(from_logits=True)) #tf.keras.losses.BinaryCrossentropy(from_logits=True))\r\n",
        "    \r\n",
        "    model.summary()\r\n",
        "\r\n",
        "    return model"
      ],
      "execution_count": null,
      "outputs": []
    },
    {
      "cell_type": "markdown",
      "metadata": {
        "id": "nww3yUsbHr1P"
      },
      "source": [
        "# Training"
      ]
    },
    {
      "cell_type": "code",
      "metadata": {
        "id": "UHbYNSKys9gK"
      },
      "source": [
        "def set_threshold(y_pred, threshold):\r\n",
        "    preds = []\r\n",
        "    for i in range(len(y_pred)):\r\n",
        "        if (y_pred[i] >= threshold):\r\n",
        "            preds.append(1)\r\n",
        "        else:\r\n",
        "            preds.append(0)\r\n",
        "    return preds"
      ],
      "execution_count": null,
      "outputs": []
    },
    {
      "cell_type": "markdown",
      "metadata": {
        "id": "xGs5XnfcJQy1"
      },
      "source": [
        "## CXR only"
      ]
    },
    {
      "cell_type": "code",
      "metadata": {
        "colab": {
          "base_uri": "https://localhost:8080/"
        },
        "id": "zbpzdunRVQ-n",
        "outputId": "2852119e-710c-4f97-e323-9f39f22bb128"
      },
      "source": [
        "callback = tf.keras.callbacks.EarlyStopping(monitor='f1_score', patience=3, mode='max')\r\n",
        "\r\n",
        "model = build_cxr(input_shape=(X_train.shape[1], ), output_units=1)\r\n",
        "\r\n",
        "model.summary()\r\n",
        " \r\n",
        "model.compile(optimizer=tf.keras.optimizers.Adam(),\r\n",
        "              loss=tf.keras.losses.BinaryCrossentropy(from_logits=True)\r\n",
        "              )\r\n",
        " \r\n",
        "history = model.fit(x=X_train, y=y_train, batch_size=32, epochs=25, shuffle=True)\r\n",
        "model.save('/content/drive/MyDrive/ML_HW3/models/CXR/mlp_CXR')\r\n",
        "\r\n",
        "y_pred = model.predict(X_test)\r\n",
        "    \r\n",
        "preds_mlp_cxr = set_threshold(y_pred, 0.45)\r\n",
        "print(classification_report(y_test, np.array(preds_mlp_cxr)))\r\n",
        " \r\n",
        "# plot_loss(history)\r\n",
        " \r\n",
        "# plot_roc(clf=model, X_test=X_combine_test, X_ehr_test=None, y_test=y_test, title='roc for mlp')\r\n",
        " \r\n",
        "# plot_calibration(y_test, y_pred)"
      ],
      "execution_count": null,
      "outputs": [
        {
          "output_type": "stream",
          "text": [
            "Model: \"model_68\"\n",
            "_________________________________________________________________\n",
            "Layer (type)                 Output Shape              Param #   \n",
            "=================================================================\n",
            "input_49 (InputLayer)        [(None, 1024)]            0         \n",
            "_________________________________________________________________\n",
            "dense_234 (Dense)            (None, 512)               524800    \n",
            "_________________________________________________________________\n",
            "dense_235 (Dense)            (None, 128)               65664     \n",
            "_________________________________________________________________\n",
            "dense_236 (Dense)            (None, 32)                4128      \n",
            "_________________________________________________________________\n",
            "last_cxr (Dense)             (None, 4)                 132       \n",
            "_________________________________________________________________\n",
            "dense_237 (Dense)            (None, 1)                 5         \n",
            "=================================================================\n",
            "Total params: 594,729\n",
            "Trainable params: 594,729\n",
            "Non-trainable params: 0\n",
            "_________________________________________________________________\n",
            "Epoch 1/25\n",
            "39/39 [==============================] - 0s 2ms/step - loss: 0.5942\n",
            "Epoch 2/25\n",
            "39/39 [==============================] - 0s 2ms/step - loss: 0.5138\n",
            "Epoch 3/25\n",
            "39/39 [==============================] - 0s 2ms/step - loss: 0.4411\n",
            "Epoch 4/25\n",
            "39/39 [==============================] - 0s 2ms/step - loss: 0.4381\n",
            "Epoch 5/25\n",
            "39/39 [==============================] - 0s 2ms/step - loss: 0.4376\n",
            "Epoch 6/25\n",
            "39/39 [==============================] - 0s 2ms/step - loss: 0.4191\n",
            "Epoch 7/25\n",
            "39/39 [==============================] - 0s 2ms/step - loss: 0.4077\n",
            "Epoch 8/25\n",
            "39/39 [==============================] - 0s 2ms/step - loss: 0.4429\n",
            "Epoch 9/25\n",
            "39/39 [==============================] - 0s 2ms/step - loss: 0.3971\n",
            "Epoch 10/25\n",
            "39/39 [==============================] - 0s 2ms/step - loss: 0.3922\n",
            "Epoch 11/25\n",
            "39/39 [==============================] - 0s 2ms/step - loss: 0.4055\n",
            "Epoch 12/25\n",
            "39/39 [==============================] - 0s 2ms/step - loss: 0.3838\n",
            "Epoch 13/25\n",
            "39/39 [==============================] - 0s 2ms/step - loss: 0.3826\n",
            "Epoch 14/25\n",
            "39/39 [==============================] - 0s 2ms/step - loss: 0.3678\n",
            "Epoch 15/25\n",
            "39/39 [==============================] - 0s 2ms/step - loss: 0.3739\n",
            "Epoch 16/25\n",
            "39/39 [==============================] - 0s 2ms/step - loss: 0.3618\n",
            "Epoch 17/25\n",
            "39/39 [==============================] - 0s 2ms/step - loss: 0.3710\n",
            "Epoch 18/25\n",
            "39/39 [==============================] - 0s 2ms/step - loss: 0.3687\n",
            "Epoch 19/25\n",
            "39/39 [==============================] - 0s 2ms/step - loss: 0.3902\n",
            "Epoch 20/25\n",
            "39/39 [==============================] - 0s 2ms/step - loss: 0.3827\n",
            "Epoch 21/25\n",
            "39/39 [==============================] - 0s 2ms/step - loss: 0.3786\n",
            "Epoch 22/25\n",
            "39/39 [==============================] - 0s 2ms/step - loss: 0.3603\n",
            "Epoch 23/25\n",
            "39/39 [==============================] - 0s 2ms/step - loss: 0.3536\n",
            "Epoch 24/25\n",
            "39/39 [==============================] - 0s 2ms/step - loss: 0.3616\n",
            "Epoch 25/25\n",
            "39/39 [==============================] - 0s 2ms/step - loss: 0.3544\n",
            "INFO:tensorflow:Assets written to: /content/drive/MyDrive/ML_HW3/models/CXR/mlp_CXR/assets\n",
            "              precision    recall  f1-score   support\n",
            "\n",
            "           0       0.96      0.68      0.80       249\n",
            "           1       0.22      0.73      0.34        30\n",
            "\n",
            "    accuracy                           0.69       279\n",
            "   macro avg       0.59      0.71      0.57       279\n",
            "weighted avg       0.88      0.69      0.75       279\n",
            "\n"
          ],
          "name": "stdout"
        }
      ]
    },
    {
      "cell_type": "markdown",
      "metadata": {
        "id": "aFSUxpKcKcG4"
      },
      "source": [
        "## CXR + EHR"
      ]
    },
    {
      "cell_type": "code",
      "metadata": {
        "id": "XGxMqTrVKfXI",
        "colab": {
          "base_uri": "https://localhost:8080/"
        },
        "outputId": "39b90b20-f847-4cbd-893f-3d2a06d98dd1"
      },
      "source": [
        "model = get_model(X_train, X_ehr_train)\r\n",
        " \r\n",
        "model.compile(optimizer=tf.keras.optimizers.Adam(),\r\n",
        "              loss=tf.keras.losses.BinaryCrossentropy(from_logits=True))\r\n",
        " \r\n",
        "history = model.fit(x=[X_train,X_ehr_train], y=y_train, batch_size=32, epochs=25, shuffle=True)\r\n",
        "model.save('/content/drive/MyDrive/ML_HW3/models/Combine/combine_mlp_Combine')\r\n",
        " \r\n",
        "# plot_loss(history)\r\n",
        " \r\n",
        "# y_pred = plot_roc(clf=model, X_test=X_test, X_ehr_test=X_ehr_test, y_test=y_test, title='roc for combine mlp')\r\n",
        " \r\n",
        "# plot_calibration(y_test, y_pred)\r\n",
        "\r\n",
        "y_pred = model.predict([X_test, X_ehr_test])\r\n",
        "    \r\n",
        "preds_com = set_threshold(y_pred, 0.45)\r\n",
        "print(classification_report(y_test, np.array(preds_com)))"
      ],
      "execution_count": null,
      "outputs": [
        {
          "output_type": "stream",
          "text": [
            "Model: \"model_64\"\n",
            "__________________________________________________________________________________________________\n",
            "Layer (type)                    Output Shape         Param #     Connected to                     \n",
            "==================================================================================================\n",
            "input_44 (InputLayer)           [(None, 1024)]       0                                            \n",
            "__________________________________________________________________________________________________\n",
            "input_45 (InputLayer)           [(None, 49)]         0                                            \n",
            "__________________________________________________________________________________________________\n",
            "dense_210 (Dense)               (None, 512)          524800      input_44[0][0]                   \n",
            "__________________________________________________________________________________________________\n",
            "dense_214 (Dense)               (None, 64)           3200        input_45[0][0]                   \n",
            "__________________________________________________________________________________________________\n",
            "dense_211 (Dense)               (None, 128)          65664       dense_210[0][0]                  \n",
            "__________________________________________________________________________________________________\n",
            "dense_215 (Dense)               (None, 32)           2080        dense_214[0][0]                  \n",
            "__________________________________________________________________________________________________\n",
            "dense_212 (Dense)               (None, 32)           4128        dense_211[0][0]                  \n",
            "__________________________________________________________________________________________________\n",
            "dense_216 (Dense)               (None, 16)           528         dense_215[0][0]                  \n",
            "__________________________________________________________________________________________________\n",
            "last_cxr (Dense)                (None, 4)            132         dense_212[0][0]                  \n",
            "__________________________________________________________________________________________________\n",
            "last_ehr (Dense)                (None, 4)            68          dense_216[0][0]                  \n",
            "__________________________________________________________________________________________________\n",
            "concatenate_16 (Concatenate)    (None, 8)            0           last_cxr[0][0]                   \n",
            "                                                                 last_ehr[0][0]                   \n",
            "__________________________________________________________________________________________________\n",
            "dense_218 (Dense)               (None, 8)            72          concatenate_16[0][0]             \n",
            "__________________________________________________________________________________________________\n",
            "dense_219 (Dense)               (None, 1)            9           dense_218[0][0]                  \n",
            "==================================================================================================\n",
            "Total params: 600,681\n",
            "Trainable params: 600,681\n",
            "Non-trainable params: 0\n",
            "__________________________________________________________________________________________________\n",
            "Epoch 1/25\n",
            "39/39 [==============================] - 1s 2ms/step - loss: 0.6100\n",
            "Epoch 2/25\n",
            "39/39 [==============================] - 0s 2ms/step - loss: 0.4573\n",
            "Epoch 3/25\n",
            "39/39 [==============================] - 0s 2ms/step - loss: 0.4243\n",
            "Epoch 4/25\n",
            "39/39 [==============================] - 0s 2ms/step - loss: 0.3910\n",
            "Epoch 5/25\n",
            "39/39 [==============================] - 0s 2ms/step - loss: 0.3916\n",
            "Epoch 6/25\n",
            "39/39 [==============================] - 0s 2ms/step - loss: 0.3480\n",
            "Epoch 7/25\n",
            "39/39 [==============================] - 0s 2ms/step - loss: 0.3668\n",
            "Epoch 8/25\n",
            "39/39 [==============================] - 0s 2ms/step - loss: 0.3184\n",
            "Epoch 9/25\n",
            "39/39 [==============================] - 0s 2ms/step - loss: 0.3508\n",
            "Epoch 10/25\n",
            "39/39 [==============================] - 0s 2ms/step - loss: 0.3121\n",
            "Epoch 11/25\n",
            "39/39 [==============================] - 0s 2ms/step - loss: 0.3088\n",
            "Epoch 12/25\n",
            "39/39 [==============================] - 0s 2ms/step - loss: 0.3062\n",
            "Epoch 13/25\n",
            "39/39 [==============================] - 0s 2ms/step - loss: 0.2928\n",
            "Epoch 14/25\n",
            "39/39 [==============================] - 0s 2ms/step - loss: 0.2941\n",
            "Epoch 15/25\n",
            "39/39 [==============================] - 0s 2ms/step - loss: 0.2465\n",
            "Epoch 16/25\n",
            "39/39 [==============================] - 0s 2ms/step - loss: 0.2254\n",
            "Epoch 17/25\n",
            "39/39 [==============================] - 0s 2ms/step - loss: 0.2522\n",
            "Epoch 18/25\n",
            "39/39 [==============================] - 0s 2ms/step - loss: 0.1871\n",
            "Epoch 19/25\n",
            "39/39 [==============================] - 0s 2ms/step - loss: 0.1937\n",
            "Epoch 20/25\n",
            "39/39 [==============================] - 0s 3ms/step - loss: 0.1789\n",
            "Epoch 21/25\n",
            "39/39 [==============================] - 0s 2ms/step - loss: 0.1868\n",
            "Epoch 22/25\n",
            "39/39 [==============================] - 0s 2ms/step - loss: 0.1636\n",
            "Epoch 23/25\n",
            "39/39 [==============================] - 0s 2ms/step - loss: 0.1500\n",
            "Epoch 24/25\n",
            "39/39 [==============================] - 0s 2ms/step - loss: 0.1874\n",
            "Epoch 25/25\n",
            "39/39 [==============================] - 0s 2ms/step - loss: 0.1288\n",
            "INFO:tensorflow:Assets written to: /content/drive/MyDrive/ML_HW3/models/Combine/combine_mlp_Combine/assets\n",
            "              precision    recall  f1-score   support\n",
            "\n",
            "           0       0.93      0.97      0.95       249\n",
            "           1       0.58      0.37      0.45        30\n",
            "\n",
            "    accuracy                           0.90       279\n",
            "   macro avg       0.75      0.67      0.70       279\n",
            "weighted avg       0.89      0.90      0.89       279\n",
            "\n"
          ],
          "name": "stdout"
        }
      ]
    },
    {
      "cell_type": "code",
      "metadata": {
        "colab": {
          "base_uri": "https://localhost:8080/"
        },
        "id": "Lia1pk5Swo7Y",
        "outputId": "5d471aeb-5df6-4305-efac-f917a86b38c8"
      },
      "source": [
        "model = build_combine(input_shape=(X_combine_train.shape[1], ), output_units=1)\n",
        "\n",
        "model.summary()\n",
        " \n",
        "model.compile(optimizer=tf.keras.optimizers.Adam(),\n",
        "              loss=tf.keras.losses.BinaryCrossentropy(from_logits=True))\n",
        " \n",
        "history = model.fit(x=X_combine_train, y=y_train, batch_size=32, epochs=20, shuffle=True)\n",
        "model.save('/content/drive/MyDrive/ML_HW3/models/Combine/mlp_Combine')\n",
        "\n",
        "y_pred = model.predict(X_combine_test)\n",
        "    \n",
        "preds_mlp_com = set_threshold(y_pred, 0.45)\n",
        "print(classification_report(y_test, np.array(preds_mlp_com)))\n",
        " \n",
        "# plot_loss(history)\n",
        " \n",
        "# plot_roc(clf=model, X_test=X_combine_test, X_ehr_test=None, y_test=y_test, title='roc for mlp')\n",
        " \n",
        "# plot_calibration(y_test, y_pred)"
      ],
      "execution_count": null,
      "outputs": [
        {
          "output_type": "stream",
          "text": [
            "Model: \"model_66\"\n",
            "_________________________________________________________________\n",
            "Layer (type)                 Output Shape              Param #   \n",
            "=================================================================\n",
            "input_47 (InputLayer)        [(None, 1073)]            0         \n",
            "_________________________________________________________________\n",
            "dense_225 (Dense)            (None, 512)               549888    \n",
            "_________________________________________________________________\n",
            "dense_226 (Dense)            (None, 128)               65664     \n",
            "_________________________________________________________________\n",
            "dense_227 (Dense)            (None, 64)                8256      \n",
            "_________________________________________________________________\n",
            "dense_228 (Dense)            (None, 16)                1040      \n",
            "_________________________________________________________________\n",
            "dense_229 (Dense)            (None, 1)                 17        \n",
            "=================================================================\n",
            "Total params: 624,865\n",
            "Trainable params: 624,865\n",
            "Non-trainable params: 0\n",
            "_________________________________________________________________\n",
            "Epoch 1/20\n",
            "39/39 [==============================] - 0s 2ms/step - loss: 0.5876\n",
            "Epoch 2/20\n",
            "39/39 [==============================] - 0s 2ms/step - loss: 0.4264\n",
            "Epoch 3/20\n",
            "39/39 [==============================] - 0s 2ms/step - loss: 0.3917\n",
            "Epoch 4/20\n",
            "39/39 [==============================] - 0s 2ms/step - loss: 0.3443\n",
            "Epoch 5/20\n",
            "39/39 [==============================] - 0s 2ms/step - loss: 0.3644\n",
            "Epoch 6/20\n",
            "39/39 [==============================] - 0s 2ms/step - loss: 0.3530\n",
            "Epoch 7/20\n",
            "39/39 [==============================] - 0s 2ms/step - loss: 0.3252\n",
            "Epoch 8/20\n",
            "39/39 [==============================] - 0s 2ms/step - loss: 0.3067\n",
            "Epoch 9/20\n",
            "39/39 [==============================] - 0s 2ms/step - loss: 0.3526\n",
            "Epoch 10/20\n",
            "39/39 [==============================] - 0s 2ms/step - loss: 0.3712\n",
            "Epoch 11/20\n",
            "39/39 [==============================] - 0s 2ms/step - loss: 0.2873\n",
            "Epoch 12/20\n",
            "39/39 [==============================] - 0s 2ms/step - loss: 0.2957\n",
            "Epoch 13/20\n",
            "39/39 [==============================] - 0s 2ms/step - loss: 0.2388\n",
            "Epoch 14/20\n",
            "39/39 [==============================] - 0s 2ms/step - loss: 0.2581\n",
            "Epoch 15/20\n",
            "39/39 [==============================] - 0s 2ms/step - loss: 0.2513\n",
            "Epoch 16/20\n",
            "39/39 [==============================] - 0s 2ms/step - loss: 0.2297\n",
            "Epoch 17/20\n",
            "39/39 [==============================] - 0s 2ms/step - loss: 0.1836\n",
            "Epoch 18/20\n",
            "39/39 [==============================] - 0s 2ms/step - loss: 0.2007\n",
            "Epoch 19/20\n",
            "39/39 [==============================] - 0s 2ms/step - loss: 0.1856\n",
            "Epoch 20/20\n",
            "39/39 [==============================] - 0s 2ms/step - loss: 0.1552\n",
            "INFO:tensorflow:Assets written to: /content/drive/MyDrive/ML_HW3/models/Combine/mlp_Combine/assets\n",
            "              precision    recall  f1-score   support\n",
            "\n",
            "           0       0.93      0.92      0.92       249\n",
            "           1       0.38      0.43      0.41        30\n",
            "\n",
            "    accuracy                           0.86       279\n",
            "   macro avg       0.66      0.67      0.66       279\n",
            "weighted avg       0.87      0.86      0.87       279\n",
            "\n"
          ],
          "name": "stdout"
        }
      ]
    },
    {
      "cell_type": "code",
      "metadata": {
        "id": "wG2kiXtiycZm",
        "colab": {
          "base_uri": "https://localhost:8080/"
        },
        "outputId": "9f3b9ff7-5be8-4258-82e9-20618c29852f"
      },
      "source": [
        "from sklearn.linear_model import LogisticRegression\r\n",
        "from sklearn.svm import LinearSVC, SVC\r\n",
        "from sklearn.neighbors import KNeighborsClassifier\r\n",
        "from sklearn.ensemble import RandomForestClassifier, GradientBoostingClassifier\r\n",
        "from xgboost import XGBClassifier\r\n",
        "\r\n",
        "clf = XGBClassifier().fit(X_combine_train, y_train)\r\n",
        "dump(clf, '/content/drive/MyDrive/ML_HW3/models/Combine/XGBoost_Combine.joblib')\r\n",
        "y_pred = clf.predict_proba(X_combine_test)\r\n",
        "preds_xgb = []\r\n",
        "for i in range(len(y_test)):\r\n",
        "    if (y_pred[i][1] >= 0.45):\r\n",
        "        preds_xgb.append(1)\r\n",
        "    else:\r\n",
        "        preds_xgb.append(0)\r\n",
        "print('XGBClassifier\\n', classification_report(y_test, np.array(preds_xgb)))\r\n",
        "\r\n",
        "clf = LogisticRegression(random_state=0).fit(X_combine_train, y_train)\r\n",
        "dump(clf, '/content/drive/MyDrive/ML_HW3/models/Combine/LR_Combine.joblib')\r\n",
        "y_pred = clf.predict_proba(X_combine_test)\r\n",
        "preds_lr = []\r\n",
        "for i in range(len(y_test)):\r\n",
        "    if (y_pred[i][1] >= 0.48):\r\n",
        "        preds_lr.append(1)\r\n",
        "    else:\r\n",
        "        preds_lr.append(0)\r\n",
        "print('LogisticRegression\\n', classification_report(y_test, np.array(preds_lr)))\r\n",
        "\r\n",
        "clf = AdaBoostClassifier(random_state=42).fit(X_combine_train, y_train)\r\n",
        "dump(clf, '/content/drive/MyDrive/ML_HW3/models/Combine/Ada_Combine.joblib')\r\n",
        "y_pred = clf.predict_proba(X_combine_test)\r\n",
        "preds_ada = []\r\n",
        "for i in range(len(y_test)):\r\n",
        "    if (y_pred[i][1] >= 0.49):\r\n",
        "        preds_ada.append(1)\r\n",
        "    else:\r\n",
        "        preds_ada.append(0)\r\n",
        "print('AdaBoostClassifier\\n', classification_report(y_test, np.array(preds_ada)))\r\n",
        "\r\n",
        "clf = DecisionTreeClassifier(random_state=0, min_samples_leaf=10).fit(X_combine_train, y_train)\r\n",
        "dump(clf, '/content/drive/MyDrive/ML_HW3/models/Combine/DT_Combine.joblib')\r\n",
        "y_pred = clf.predict_proba(X_combine_test)\r\n",
        "preds_dt = []\r\n",
        "for i in range(len(y_pred)):\r\n",
        "    if (y_pred[i][1] >= 0.45):\r\n",
        "        preds_dt.append(1)\r\n",
        "    else:\r\n",
        "        preds_dt.append(0)\r\n",
        "print('DecisionTreeClassifier\\n', classification_report(y_test, np.array(preds_dt)))\r\n",
        "\r\n",
        "clf = RandomForestClassifier(n_estimators=800, max_depth=15).fit(X_combine_train, y_train)\r\n",
        "dump(clf, '/content/drive/MyDrive/ML_HW3/models/Combine/RF_Combine.joblib')\r\n",
        "y_pred = clf.predict_proba(X_combine_test)\r\n",
        "preds_rf = []\r\n",
        "for i in range(len(y_pred)):\r\n",
        "    if (y_pred[i][1] >= 0.45):\r\n",
        "        preds_rf.append(1)\r\n",
        "    else:\r\n",
        "        preds_rf.append(0)\r\n",
        "print('RandomForestClassifier\\n', classification_report(y_test, np.array(preds_rf)))\r\n",
        "\r\n",
        "clf = KNeighborsClassifier(n_neighbors=5).fit(X_combine_train, y_train)\r\n",
        "dump(clf, '/content/drive/MyDrive/ML_HW3/models/Combine/KNN_Combine.joblib')\r\n",
        "y_pred = clf.predict_proba(X_combine_test)\r\n",
        "preds_knn = []\r\n",
        "for i in range(len(y_pred)):\r\n",
        "    if (y_pred[i][1] >= 0.4):\r\n",
        "        preds_knn.append(1)\r\n",
        "    else:\r\n",
        "        preds_knn.append(0)\r\n",
        "print('KNeighborsClassifier\\n', classification_report(y_test, np.array(preds_knn)))\r\n",
        "\r\n",
        "clf = GradientBoostingClassifier(n_estimators=500, learning_rate=1.0, max_depth=5, random_state=0).fit(X_combine_train, y_train)\r\n",
        "dump(clf, '/content/drive/MyDrive/ML_HW3/models/Combine/GB_Combine.joblib')\r\n",
        "y_pred = clf.predict_proba(X_combine_test)\r\n",
        "preds_gb = []\r\n",
        "for i in range(len(y_pred)):\r\n",
        "    if (y_pred[i][1] >= 0.45):\r\n",
        "        preds_gb.append(1)\r\n",
        "    else:\r\n",
        "        preds_gb.append(0)\r\n",
        "print('GradientBoostingClassifier\\n', classification_report(y_test, np.array(preds_gb)))\r\n",
        "\r\n",
        "# plot_roc(clf=clf, X_test=None, X_ehr_test=X_combine_test, y_test=y_test, title='roc for xgboost')\r\n",
        "# plot_calibration(y_test, y_pred)"
      ],
      "execution_count": null,
      "outputs": [
        {
          "output_type": "stream",
          "text": [
            "XGBClassifier\n",
            "               precision    recall  f1-score   support\n",
            "\n",
            "           0       0.94      0.87      0.90       249\n",
            "           1       0.34      0.57      0.42        30\n",
            "\n",
            "    accuracy                           0.84       279\n",
            "   macro avg       0.64      0.72      0.66       279\n",
            "weighted avg       0.88      0.84      0.85       279\n",
            "\n",
            "LogisticRegression\n",
            "               precision    recall  f1-score   support\n",
            "\n",
            "           0       0.95      0.82      0.88       249\n",
            "           1       0.31      0.67      0.43        30\n",
            "\n",
            "    accuracy                           0.81       279\n",
            "   macro avg       0.63      0.74      0.65       279\n",
            "weighted avg       0.88      0.81      0.83       279\n",
            "\n",
            "AdaBoostClassifier\n",
            "               precision    recall  f1-score   support\n",
            "\n",
            "           0       0.98      0.61      0.76       249\n",
            "           1       0.22      0.90      0.35        30\n",
            "\n",
            "    accuracy                           0.65       279\n",
            "   macro avg       0.60      0.76      0.55       279\n",
            "weighted avg       0.90      0.65      0.71       279\n",
            "\n",
            "DecisionTreeClassifier\n",
            "               precision    recall  f1-score   support\n",
            "\n",
            "           0       0.97      0.61      0.75       249\n",
            "           1       0.20      0.83      0.33        30\n",
            "\n",
            "    accuracy                           0.63       279\n",
            "   macro avg       0.59      0.72      0.54       279\n",
            "weighted avg       0.89      0.63      0.70       279\n",
            "\n",
            "RandomForestClassifier\n",
            "               precision    recall  f1-score   support\n",
            "\n",
            "           0       0.92      0.89      0.91       249\n",
            "           1       0.29      0.37      0.32        30\n",
            "\n",
            "    accuracy                           0.84       279\n",
            "   macro avg       0.61      0.63      0.61       279\n",
            "weighted avg       0.85      0.84      0.84       279\n",
            "\n",
            "KNeighborsClassifier\n",
            "               precision    recall  f1-score   support\n",
            "\n",
            "           0       0.91      0.82      0.86       249\n",
            "           1       0.19      0.37      0.25        30\n",
            "\n",
            "    accuracy                           0.77       279\n",
            "   macro avg       0.55      0.59      0.56       279\n",
            "weighted avg       0.84      0.77      0.80       279\n",
            "\n",
            "GradientBoostingClassifier\n",
            "               precision    recall  f1-score   support\n",
            "\n",
            "           0       0.94      0.78      0.85       249\n",
            "           1       0.24      0.57      0.33        30\n",
            "\n",
            "    accuracy                           0.76       279\n",
            "   macro avg       0.59      0.67      0.59       279\n",
            "weighted avg       0.86      0.76      0.80       279\n",
            "\n"
          ],
          "name": "stdout"
        }
      ]
    },
    {
      "cell_type": "code",
      "metadata": {
        "colab": {
          "base_uri": "https://localhost:8080/"
        },
        "id": "W2HY--8kiUcA",
        "outputId": "65b594b8-4e24-41aa-aa95-32c99df6427e"
      },
      "source": [
        "from sklearn.ensemble import BaggingClassifier, VotingClassifier, StackingClassifier\r\n",
        "from sklearn.tree import DecisionTreeClassifier\r\n",
        "\r\n",
        "estimators = [\r\n",
        "        ('rf', RandomForestClassifier(n_estimators=800, max_depth=15)),\r\n",
        "        ('xgb', XGBClassifier()),\r\n",
        "        ('dt', DecisionTreeClassifier(random_state=0, min_samples_leaf=10)),\r\n",
        "        ('ada', AdaBoostClassifier(random_state=42)),\r\n",
        "        ('knn', KNeighborsClassifier(n_neighbors=15)),\r\n",
        "        ('gb', GradientBoostingClassifier(n_estimators=500, learning_rate=1.0, max_depth=5, random_state=0))]\r\n",
        "\r\n",
        "clf = StackingClassifier(estimators=estimators, final_estimator=LogisticRegression()).fit(X_combine_train, y_train)\r\n",
        "dump(clf, '/content/drive/MyDrive/ML_HW3/models/Combine/Stacking_Combine.joblib')\r\n",
        "y_pred = clf.predict_proba(X_combine_test)\r\n",
        "preds_stacking = []\r\n",
        "for i in range(len(y_pred)):\r\n",
        "    if (y_pred[i][1] >= 0.49):\r\n",
        "        preds_stacking.append(1)\r\n",
        "    else:\r\n",
        "        preds_stacking.append(0)\r\n",
        "print('StackingClassifier\\n', classification_report(y_test, np.array(preds_stacking)))\r\n",
        "\r\n",
        "estimators = [\r\n",
        "        ('rf', RandomForestClassifier(n_estimators=800, max_depth=15)),\r\n",
        "        ('xgb', XGBClassifier()),\r\n",
        "        ('dt', DecisionTreeClassifier(random_state=0, min_samples_leaf=10)),\r\n",
        "        ('ada', AdaBoostClassifier(random_state=42)),\r\n",
        "        ('knn', KNeighborsClassifier(n_neighbors=15)),\r\n",
        "        ('gb', GradientBoostingClassifier(n_estimators=500, learning_rate=1.0, max_depth=5, random_state=0)),\r\n",
        "        ('lr', LogisticRegression(random_state=0))]\r\n",
        "\r\n",
        "clf = VotingClassifier(estimators=estimators, voting='soft').fit(X_combine_train, y_train)\r\n",
        "dump(clf, '/content/drive/MyDrive/ML_HW3/models/Combine/voting_soft_Combine.joblib')\r\n",
        "preds_voting_soft = clf.predict(X_combine_test)\r\n",
        "print('VotingClassifier soft\\n', classification_report(y_test, np.array(preds_voting_soft)))\r\n",
        "\r\n",
        "clf = VotingClassifier(estimators=estimators, voting='hard').fit(X_combine_train, y_train)\r\n",
        "dump(clf, '/content/drive/MyDrive/ML_HW3/models/Combine/voting_hard_Combine.joblib')\r\n",
        "preds_voting_hard = clf.predict(X_combine_test)\r\n",
        "print('VotingClassifier hard\\n', classification_report(y_test, np.array(preds_voting_hard)))"
      ],
      "execution_count": null,
      "outputs": [
        {
          "output_type": "stream",
          "text": [
            "StackingClassifier\n",
            "               precision    recall  f1-score   support\n",
            "\n",
            "           0       0.94      0.85      0.89       249\n",
            "           1       0.30      0.53      0.39        30\n",
            "\n",
            "    accuracy                           0.82       279\n",
            "   macro avg       0.62      0.69      0.64       279\n",
            "weighted avg       0.87      0.82      0.84       279\n",
            "\n",
            "VotingClassifier soft\n",
            "               precision    recall  f1-score   support\n",
            "\n",
            "           0       0.93      0.86      0.89       249\n",
            "           1       0.28      0.43      0.34        30\n",
            "\n",
            "    accuracy                           0.82       279\n",
            "   macro avg       0.60      0.65      0.62       279\n",
            "weighted avg       0.86      0.82      0.83       279\n",
            "\n",
            "VotingClassifier hard\n",
            "               precision    recall  f1-score   support\n",
            "\n",
            "           0       0.94      0.90      0.92       249\n",
            "           1       0.38      0.50      0.43        30\n",
            "\n",
            "    accuracy                           0.86       279\n",
            "   macro avg       0.66      0.70      0.67       279\n",
            "weighted avg       0.88      0.86      0.87       279\n",
            "\n"
          ],
          "name": "stdout"
        }
      ]
    },
    {
      "cell_type": "code",
      "metadata": {
        "colab": {
          "base_uri": "https://localhost:8080/",
          "height": 955
        },
        "id": "egjOmPXkNx1c",
        "outputId": "254fd65b-dce8-4252-c276-7de9c5198bc3"
      },
      "source": [
        "preds = []\r\n",
        "preds_proba = []\r\n",
        "for i in range(len(y_test)):\r\n",
        "    preds_proba.append((preds_com[i] +preds_mlp_com[i] + preds_stacking[i] + preds_voting_soft[i] + preds_voting_hard[i])/5)\r\n",
        "    preds.append(np.round(preds_proba[i]))\r\n",
        "\r\n",
        "plot_roc(preds=preds, y_test=y_test, title='roc for my voting')\r\n",
        "plot_calibration(y_test, preds_proba)"
      ],
      "execution_count": null,
      "outputs": [
        {
          "output_type": "stream",
          "text": [
            "              precision    recall  f1-score   support\n",
            "\n",
            "           0       0.93      0.90      0.91       249\n",
            "           1       0.35      0.47      0.40        30\n",
            "\n",
            "    accuracy                           0.85       279\n",
            "   macro avg       0.64      0.68      0.66       279\n",
            "weighted avg       0.87      0.85      0.86       279\n",
            "\n"
          ],
          "name": "stdout"
        },
        {
          "output_type": "display_data",
          "data": {
            "image/png": "[encoded data removed]",
            "text/plain": [
              "<Figure size 432x288 with 1 Axes>"
            ]
          },
          "metadata": {
            "tags": [],
            "needs_background": "light"
          }
        },
        {
          "output_type": "display_data",
          "data": {
            "image/png": "[encoded data removed]",
            "text/plain": [
              "<Figure size 864x576 with 1 Axes>"
            ]
          },
          "metadata": {
            "tags": [],
            "needs_background": "light"
          }
        }
      ]
    },
    {
      "cell_type": "code",
      "metadata": {
        "id": "hxlLbtR5miZJ"
      },
      "source": [
        ""
      ],
      "execution_count": null,
      "outputs": []
    }
  ]
}